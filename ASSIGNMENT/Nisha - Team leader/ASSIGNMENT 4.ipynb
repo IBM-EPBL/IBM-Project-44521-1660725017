{
 "cells": [
  {
   "cell_type": "markdown",
   "metadata": {
    "id": "hSCE8nuhJilt"
   },
   "source": [
    "# Importing the libaries"
   ]
  },
  {
   "cell_type": "code",
   "execution_count": 1,
   "metadata": {
    "id": "36sVynd7uiUp"
   },
   "outputs": [],
   "source": [
    "import pandas as pd\n",
    "import numpy as np\n",
    "import seaborn as sns\n",
    "import matplotlib.pyplot as plt"
   ]
  },
  {
   "cell_type": "markdown",
   "metadata": {
    "id": "rBN82DcPvmfC"
   },
   "source": [
    "## 1. Downloading the dataset\n",
    "## 2. Loading the dataset into the tool"
   ]
  },
  {
   "cell_type": "code",
   "execution_count": 2,
   "metadata": {
    "id": "mwwdRp9qvjK9"
   },
   "outputs": [],
   "source": [
    "#Importing the dataset\n",
    "data = pd.read_csv('abalone.csv')"
   ]
  },
  {
   "cell_type": "code",
   "execution_count": 3,
   "metadata": {
    "colab": {
     "base_uri": "https://localhost:8080/",
     "height": 206
    },
    "id": "NjwKPigbv9Jy",
    "outputId": "678cd0f7-654e-4faa-a1a9-09eea7832668"
   },
   "outputs": [
    {
     "data": {
      "text/html": [
       "<div>\n",
       "<style scoped>\n",
       "    .dataframe tbody tr th:only-of-type {\n",
       "        vertical-align: middle;\n",
       "    }\n",
       "\n",
       "    .dataframe tbody tr th {\n",
       "        vertical-align: top;\n",
       "    }\n",
       "\n",
       "    .dataframe thead th {\n",
       "        text-align: right;\n",
       "    }\n",
       "</style>\n",
       "<table border=\"1\" class=\"dataframe\">\n",
       "  <thead>\n",
       "    <tr style=\"text-align: right;\">\n",
       "      <th></th>\n",
       "      <th>Sex</th>\n",
       "      <th>Length</th>\n",
       "      <th>Diameter</th>\n",
       "      <th>Height</th>\n",
       "      <th>Whole weight</th>\n",
       "      <th>Shucked weight</th>\n",
       "      <th>Viscera weight</th>\n",
       "      <th>Shell weight</th>\n",
       "      <th>Rings</th>\n",
       "    </tr>\n",
       "  </thead>\n",
       "  <tbody>\n",
       "    <tr>\n",
       "      <th>0</th>\n",
       "      <td>M</td>\n",
       "      <td>0.455</td>\n",
       "      <td>0.365</td>\n",
       "      <td>0.095</td>\n",
       "      <td>0.5140</td>\n",
       "      <td>0.2245</td>\n",
       "      <td>0.1010</td>\n",
       "      <td>0.150</td>\n",
       "      <td>15</td>\n",
       "    </tr>\n",
       "    <tr>\n",
       "      <th>1</th>\n",
       "      <td>M</td>\n",
       "      <td>0.350</td>\n",
       "      <td>0.265</td>\n",
       "      <td>0.090</td>\n",
       "      <td>0.2255</td>\n",
       "      <td>0.0995</td>\n",
       "      <td>0.0485</td>\n",
       "      <td>0.070</td>\n",
       "      <td>7</td>\n",
       "    </tr>\n",
       "    <tr>\n",
       "      <th>2</th>\n",
       "      <td>F</td>\n",
       "      <td>0.530</td>\n",
       "      <td>0.420</td>\n",
       "      <td>0.135</td>\n",
       "      <td>0.6770</td>\n",
       "      <td>0.2565</td>\n",
       "      <td>0.1415</td>\n",
       "      <td>0.210</td>\n",
       "      <td>9</td>\n",
       "    </tr>\n",
       "    <tr>\n",
       "      <th>3</th>\n",
       "      <td>M</td>\n",
       "      <td>0.440</td>\n",
       "      <td>0.365</td>\n",
       "      <td>0.125</td>\n",
       "      <td>0.5160</td>\n",
       "      <td>0.2155</td>\n",
       "      <td>0.1140</td>\n",
       "      <td>0.155</td>\n",
       "      <td>10</td>\n",
       "    </tr>\n",
       "    <tr>\n",
       "      <th>4</th>\n",
       "      <td>I</td>\n",
       "      <td>0.330</td>\n",
       "      <td>0.255</td>\n",
       "      <td>0.080</td>\n",
       "      <td>0.2050</td>\n",
       "      <td>0.0895</td>\n",
       "      <td>0.0395</td>\n",
       "      <td>0.055</td>\n",
       "      <td>7</td>\n",
       "    </tr>\n",
       "  </tbody>\n",
       "</table>\n",
       "</div>"
      ],
      "text/plain": [
       "  Sex  Length  Diameter  Height  Whole weight  Shucked weight  Viscera weight  \\\n",
       "0   M   0.455     0.365   0.095        0.5140          0.2245          0.1010   \n",
       "1   M   0.350     0.265   0.090        0.2255          0.0995          0.0485   \n",
       "2   F   0.530     0.420   0.135        0.6770          0.2565          0.1415   \n",
       "3   M   0.440     0.365   0.125        0.5160          0.2155          0.1140   \n",
       "4   I   0.330     0.255   0.080        0.2050          0.0895          0.0395   \n",
       "\n",
       "   Shell weight  Rings  \n",
       "0         0.150     15  \n",
       "1         0.070      7  \n",
       "2         0.210      9  \n",
       "3         0.155     10  \n",
       "4         0.055      7  "
      ]
     },
     "execution_count": 3,
     "metadata": {},
     "output_type": "execute_result"
    }
   ],
   "source": [
    "#Printing the top first data lables and values\n",
    "data.head()"
   ]
  },
  {
   "cell_type": "markdown",
   "metadata": {
    "id": "NiGNcfbMwF8z"
   },
   "source": [
    "## 3. visualization\n",
    "### Univariate Analysis"
   ]
  },
  {
   "cell_type": "code",
   "execution_count": 4,
   "metadata": {
    "colab": {
     "base_uri": "https://localhost:8080/",
     "height": 338
    },
    "id": "FPz-o8UQv-xd",
    "outputId": "08798bb4-e156-49d7-c2e0-fd75922fcc34"
   },
   "outputs": [
    {
     "data": {
      "text/plain": [
       "(array([1528.,    0.,    0.,    0.,    0., 1307.,    0.,    0.,    0.,\n",
       "        1342.]),\n",
       " array([0. , 0.2, 0.4, 0.6, 0.8, 1. , 1.2, 1.4, 1.6, 1.8, 2. ]),\n",
       " <BarContainer object of 10 artists>)"
      ]
     },
     "execution_count": 4,
     "metadata": {},
     "output_type": "execute_result"
    },
    {
     "data": {
      "image/png": "[encoded data removed]",
      "text/plain": [
       "<Figure size 432x288 with 1 Axes>"
      ]
     },
     "metadata": {
      "needs_background": "light"
     },
     "output_type": "display_data"
    }
   ],
   "source": [
    "plt.hist(data['Sex'])"
   ]
  },
  {
   "cell_type": "markdown",
   "metadata": {
    "id": "smx-7We_wTPF"
   },
   "source": [
    "### Bivariate Analysis"
   ]
  },
  {
   "cell_type": "code",
   "execution_count": 5,
   "metadata": {
    "colab": {
     "base_uri": "https://localhost:8080/",
     "height": 284
    },
    "id": "E5GbmYMOwSPn",
    "outputId": "b4826273-1fad-4bf4-aa89-a6c6edb2451a"
   },
   "outputs": [
    {
     "data": {
      "text/plain": [
       "<matplotlib.collections.PathCollection at 0x23b8c5b5ee0>"
      ]
     },
     "execution_count": 5,
     "metadata": {},
     "output_type": "execute_result"
    },
    {
     "data": {
      "image/png": "[encoded data removed]",
      "text/plain": [
       "<Figure size 432x288 with 1 Axes>"
      ]
     },
     "metadata": {
      "needs_background": "light"
     },
     "output_type": "display_data"
    }
   ],
   "source": [
    "plt.scatter(data['Shell weight'],data['Rings'])"
   ]
  },
  {
   "cell_type": "markdown",
   "metadata": {
    "id": "Jgx8uibtwbU_"
   },
   "source": [
    "### Multivariate Analysis"
   ]
  },
  {
   "cell_type": "code",
   "execution_count": null,
   "metadata": {
    "colab": {
     "base_uri": "https://localhost:8080/",
     "height": 1000
    },
    "id": "nxLB0ceTwaIH",
    "outputId": "11750d3c-de57-4feb-ff2a-7f2d66b80466"
   },
   "outputs": [
    {
     "data": {
      "text/plain": [
       "<seaborn.axisgrid.PairGrid at 0x23b897537f0>"
      ]
     },
     "execution_count": 6,
     "metadata": {},
     "output_type": "execute_result"
    }
   ],
   "source": [
    "sns.pairplot(data,hue='Sex')"
   ]
  },
  {
   "cell_type": "markdown",
   "metadata": {
    "id": "CO0gkzMC3Xyt"
   },
   "source": [
    "## 4. Descriptive Statistics "
   ]
  },
  {
   "cell_type": "code",
   "execution_count": 9,
   "metadata": {
    "colab": {
     "base_uri": "https://localhost:8080/",
     "height": 300
    },
    "id": "83PTwmfQwlyD",
    "outputId": "37afda3c-1c11-4c08-be6c-7ee855252003"
   },
   "outputs": [
    {
     "data": {
      "text/html": [
       "<div>\n",
       "<style scoped>\n",
       "    .dataframe tbody tr th:only-of-type {\n",
       "        vertical-align: middle;\n",
       "    }\n",
       "\n",
       "    .dataframe tbody tr th {\n",
       "        vertical-align: top;\n",
       "    }\n",
       "\n",
       "    .dataframe thead th {\n",
       "        text-align: right;\n",
       "    }\n",
       "</style>\n",
       "<table border=\"1\" class=\"dataframe\">\n",
       "  <thead>\n",
       "    <tr style=\"text-align: right;\">\n",
       "      <th></th>\n",
       "      <th>Length</th>\n",
       "      <th>Diameter</th>\n",
       "      <th>Height</th>\n",
       "      <th>Whole weight</th>\n",
       "      <th>Shucked weight</th>\n",
       "      <th>Viscera weight</th>\n",
       "      <th>Shell weight</th>\n",
       "      <th>Rings</th>\n",
       "    </tr>\n",
       "  </thead>\n",
       "  <tbody>\n",
       "    <tr>\n",
       "      <th>count</th>\n",
       "      <td>4177.000000</td>\n",
       "      <td>4177.000000</td>\n",
       "      <td>4177.000000</td>\n",
       "      <td>4177.000000</td>\n",
       "      <td>4177.000000</td>\n",
       "      <td>4177.000000</td>\n",
       "      <td>4177.000000</td>\n",
       "      <td>4177.000000</td>\n",
       "    </tr>\n",
       "    <tr>\n",
       "      <th>mean</th>\n",
       "      <td>0.523992</td>\n",
       "      <td>0.407881</td>\n",
       "      <td>0.139516</td>\n",
       "      <td>0.828742</td>\n",
       "      <td>0.359367</td>\n",
       "      <td>0.180594</td>\n",
       "      <td>0.238831</td>\n",
       "      <td>9.933684</td>\n",
       "    </tr>\n",
       "    <tr>\n",
       "      <th>std</th>\n",
       "      <td>0.120093</td>\n",
       "      <td>0.099240</td>\n",
       "      <td>0.041827</td>\n",
       "      <td>0.490389</td>\n",
       "      <td>0.221963</td>\n",
       "      <td>0.109614</td>\n",
       "      <td>0.139203</td>\n",
       "      <td>3.224169</td>\n",
       "    </tr>\n",
       "    <tr>\n",
       "      <th>min</th>\n",
       "      <td>0.075000</td>\n",
       "      <td>0.055000</td>\n",
       "      <td>0.000000</td>\n",
       "      <td>0.002000</td>\n",
       "      <td>0.001000</td>\n",
       "      <td>0.000500</td>\n",
       "      <td>0.001500</td>\n",
       "      <td>1.000000</td>\n",
       "    </tr>\n",
       "    <tr>\n",
       "      <th>25%</th>\n",
       "      <td>0.450000</td>\n",
       "      <td>0.350000</td>\n",
       "      <td>0.115000</td>\n",
       "      <td>0.441500</td>\n",
       "      <td>0.186000</td>\n",
       "      <td>0.093500</td>\n",
       "      <td>0.130000</td>\n",
       "      <td>8.000000</td>\n",
       "    </tr>\n",
       "    <tr>\n",
       "      <th>50%</th>\n",
       "      <td>0.545000</td>\n",
       "      <td>0.425000</td>\n",
       "      <td>0.140000</td>\n",
       "      <td>0.799500</td>\n",
       "      <td>0.336000</td>\n",
       "      <td>0.171000</td>\n",
       "      <td>0.234000</td>\n",
       "      <td>9.000000</td>\n",
       "    </tr>\n",
       "    <tr>\n",
       "      <th>75%</th>\n",
       "      <td>0.615000</td>\n",
       "      <td>0.480000</td>\n",
       "      <td>0.165000</td>\n",
       "      <td>1.153000</td>\n",
       "      <td>0.502000</td>\n",
       "      <td>0.253000</td>\n",
       "      <td>0.329000</td>\n",
       "      <td>11.000000</td>\n",
       "    </tr>\n",
       "    <tr>\n",
       "      <th>max</th>\n",
       "      <td>0.815000</td>\n",
       "      <td>0.650000</td>\n",
       "      <td>1.130000</td>\n",
       "      <td>2.825500</td>\n",
       "      <td>1.488000</td>\n",
       "      <td>0.760000</td>\n",
       "      <td>1.005000</td>\n",
       "      <td>29.000000</td>\n",
       "    </tr>\n",
       "  </tbody>\n",
       "</table>\n",
       "</div>"
      ],
      "text/plain": [
       "            Length     Diameter       Height  Whole weight  Shucked weight  \\\n",
       "count  4177.000000  4177.000000  4177.000000   4177.000000     4177.000000   \n",
       "mean      0.523992     0.407881     0.139516      0.828742        0.359367   \n",
       "std       0.120093     0.099240     0.041827      0.490389        0.221963   \n",
       "min       0.075000     0.055000     0.000000      0.002000        0.001000   \n",
       "25%       0.450000     0.350000     0.115000      0.441500        0.186000   \n",
       "50%       0.545000     0.425000     0.140000      0.799500        0.336000   \n",
       "75%       0.615000     0.480000     0.165000      1.153000        0.502000   \n",
       "max       0.815000     0.650000     1.130000      2.825500        1.488000   \n",
       "\n",
       "       Viscera weight  Shell weight        Rings  \n",
       "count     4177.000000   4177.000000  4177.000000  \n",
       "mean         0.180594      0.238831     9.933684  \n",
       "std          0.109614      0.139203     3.224169  \n",
       "min          0.000500      0.001500     1.000000  \n",
       "25%          0.093500      0.130000     8.000000  \n",
       "50%          0.171000      0.234000     9.000000  \n",
       "75%          0.253000      0.329000    11.000000  \n",
       "max          0.760000      1.005000    29.000000  "
      ]
     },
     "execution_count": 9,
     "metadata": {},
     "output_type": "execute_result"
    }
   ],
   "source": [
    "data.describe()"
   ]
  },
  {
   "cell_type": "markdown",
   "metadata": {
    "id": "84QQpHNS3oI3"
   },
   "source": [
    "## 5. Checking for missing values\n",
    "\n"
   ]
  },
  {
   "cell_type": "code",
   "execution_count": 21,
   "metadata": {
    "colab": {
     "base_uri": "https://localhost:8080/"
    },
    "id": "WBlViEmH3m4H",
    "outputId": "8f576bca-4afc-42f0-a843-d250ca3e5563"
   },
   "outputs": [
    {
     "data": {
      "text/plain": [
       "Sex               0\n",
       "Length            0\n",
       "Diameter          0\n",
       "Height            0\n",
       "Whole weight      0\n",
       "Shucked weight    0\n",
       "Viscera weight    0\n",
       "Shell weight      0\n",
       "Rings             0\n",
       "dtype: int64"
      ]
     },
     "execution_count": 21,
     "metadata": {},
     "output_type": "execute_result"
    }
   ],
   "source": [
    "data.isna().sum()"
   ]
  },
  {
   "cell_type": "markdown",
   "metadata": {
    "id": "iOoY4CHx31aK"
   },
   "source": [
    "The above result shows there are no null values in the lables of the data"
   ]
  },
  {
   "cell_type": "markdown",
   "metadata": {
    "id": "y1bhktnf3_4J"
   },
   "source": [
    "##6. Finding the outliers and replacing them"
   ]
  },
  {
   "cell_type": "code",
   "execution_count": 22,
   "metadata": {
    "colab": {
     "base_uri": "https://localhost:8080/",
     "height": 381
    },
    "id": "FaYMFZWI3y9u",
    "outputId": "13273f2c-8835-401b-8402-59c0fc580b36"
   },
   "outputs": [
    {
     "data": {
      "image/png": "[encoded data removed]",
      "text/plain": [
       "<Figure size 1800x2160 with 28 Axes>"
      ]
     },
     "metadata": {
      "needs_background": "light"
     },
     "output_type": "display_data"
    }
   ],
   "source": [
    "data.plot(kind=\"box\",subplots=True,layout=(7,4),figsize=(25,30));"
   ]
  },
  {
   "cell_type": "markdown",
   "metadata": {
    "id": "B9xoCV3q4z3a"
   },
   "source": [
    "**Quantiles** are cut points dividing the range of a probability distribution into continuous intervals with equal probabilities, or dividing the observations in a sample"
   ]
  },
  {
   "cell_type": "code",
   "execution_count": 23,
   "metadata": {
    "colab": {
     "base_uri": "https://localhost:8080/",
     "height": 112
    },
    "id": "ho6F5imi4SAn",
    "outputId": "b97074c2-54d7-4c02-e92d-6fcb06e05940"
   },
   "outputs": [
    {
     "data": {
      "text/html": [
       "<div>\n",
       "<style scoped>\n",
       "    .dataframe tbody tr th:only-of-type {\n",
       "        vertical-align: middle;\n",
       "    }\n",
       "\n",
       "    .dataframe tbody tr th {\n",
       "        vertical-align: top;\n",
       "    }\n",
       "\n",
       "    .dataframe thead th {\n",
       "        text-align: right;\n",
       "    }\n",
       "</style>\n",
       "<table border=\"1\" class=\"dataframe\">\n",
       "  <thead>\n",
       "    <tr style=\"text-align: right;\">\n",
       "      <th></th>\n",
       "      <th>Length</th>\n",
       "      <th>Diameter</th>\n",
       "      <th>Height</th>\n",
       "      <th>Whole weight</th>\n",
       "      <th>Shucked weight</th>\n",
       "      <th>Viscera weight</th>\n",
       "      <th>Shell weight</th>\n",
       "      <th>Rings</th>\n",
       "    </tr>\n",
       "  </thead>\n",
       "  <tbody>\n",
       "    <tr>\n",
       "      <th>0.25</th>\n",
       "      <td>0.450</td>\n",
       "      <td>0.35</td>\n",
       "      <td>0.115</td>\n",
       "      <td>0.4415</td>\n",
       "      <td>0.186</td>\n",
       "      <td>0.0935</td>\n",
       "      <td>0.130</td>\n",
       "      <td>8.0</td>\n",
       "    </tr>\n",
       "    <tr>\n",
       "      <th>0.75</th>\n",
       "      <td>0.615</td>\n",
       "      <td>0.48</td>\n",
       "      <td>0.165</td>\n",
       "      <td>1.1530</td>\n",
       "      <td>0.502</td>\n",
       "      <td>0.2530</td>\n",
       "      <td>0.329</td>\n",
       "      <td>11.0</td>\n",
       "    </tr>\n",
       "  </tbody>\n",
       "</table>\n",
       "</div>"
      ],
      "text/plain": [
       "      Length  Diameter  Height  Whole weight  Shucked weight  Viscera weight  \\\n",
       "0.25   0.450      0.35   0.115        0.4415           0.186          0.0935   \n",
       "0.75   0.615      0.48   0.165        1.1530           0.502          0.2530   \n",
       "\n",
       "      Shell weight  Rings  \n",
       "0.25         0.130    8.0  \n",
       "0.75         0.329   11.0  "
      ]
     },
     "execution_count": 23,
     "metadata": {},
     "output_type": "execute_result"
    }
   ],
   "source": [
    "qnt=data.quantile(q=[0.25,0.75])\n",
    "qnt"
   ]
  },
  {
   "cell_type": "code",
   "execution_count": 24,
   "metadata": {
    "colab": {
     "base_uri": "https://localhost:8080/"
    },
    "id": "iApefuRS4Zlb",
    "outputId": "f5e6b4c9-b275-4be7-f456-f808f799f472"
   },
   "outputs": [
    {
     "data": {
      "text/plain": [
       "Length            0.1650\n",
       "Diameter          0.1300\n",
       "Height            0.0500\n",
       "Whole weight      0.7115\n",
       "Shucked weight    0.3160\n",
       "Viscera weight    0.1595\n",
       "Shell weight      0.1990\n",
       "Rings             3.0000\n",
       "dtype: float64"
      ]
     },
     "execution_count": 24,
     "metadata": {},
     "output_type": "execute_result"
    }
   ],
   "source": [
    "iqr=qnt.loc[0.75]-qnt.loc[0.25] \n",
    "iqr"
   ]
  },
  {
   "cell_type": "code",
   "execution_count": 25,
   "metadata": {
    "colab": {
     "base_uri": "https://localhost:8080/"
    },
    "id": "xRQXhDgk4cT4",
    "outputId": "3206d43c-88ee-4cc9-8905-fc6b9cde9523"
   },
   "outputs": [
    {
     "data": {
      "text/plain": [
       "Length            0.20250\n",
       "Diameter          0.15500\n",
       "Height            0.04000\n",
       "Whole weight     -0.62575\n",
       "Shucked weight   -0.28800\n",
       "Viscera weight   -0.14575\n",
       "Shell weight     -0.16850\n",
       "Rings             3.50000\n",
       "dtype: float64"
      ]
     },
     "execution_count": 25,
     "metadata": {},
     "output_type": "execute_result"
    }
   ],
   "source": [
    "lower=qnt.loc[0.25]-(1.5*iqr)\n",
    "lower"
   ]
  },
  {
   "cell_type": "code",
   "execution_count": 26,
   "metadata": {
    "colab": {
     "base_uri": "https://localhost:8080/"
    },
    "id": "3KPGrEdN47QY",
    "outputId": "9984060b-3bfe-40b8-866a-659b504dd2a1"
   },
   "outputs": [
    {
     "data": {
      "text/plain": [
       "Length             0.86250\n",
       "Diameter           0.67500\n",
       "Height             0.24000\n",
       "Whole weight       2.22025\n",
       "Shucked weight     0.97600\n",
       "Viscera weight     0.49225\n",
       "Shell weight       0.62750\n",
       "Rings             15.50000\n",
       "dtype: float64"
      ]
     },
     "execution_count": 26,
     "metadata": {},
     "output_type": "execute_result"
    }
   ],
   "source": [
    "upper=qnt.loc[0.75]+(1.5*iqr)\n",
    "upper"
   ]
  },
  {
   "cell_type": "code",
   "execution_count": 27,
   "metadata": {
    "colab": {
     "base_uri": "https://localhost:8080/"
    },
    "id": "Dl4RMMOz5D-b",
    "outputId": "ca19d3c4-4b41-4a2a-ae50-2badc3178f39"
   },
   "outputs": [
    {
     "name": "stderr",
     "output_type": "stream",
     "text": [
      "C:\\Users\\jeeva\\AppData\\Local\\Temp/ipykernel_25592/531903386.py:1: FutureWarning: Dropping of nuisance columns in DataFrame reductions (with 'numeric_only=None') is deprecated; in a future version this will raise TypeError.  Select only valid columns before calling the reduction.\n",
      "  data.mean()\n"
     ]
    },
    {
     "data": {
      "text/plain": [
       "Length            0.523992\n",
       "Diameter          0.407881\n",
       "Height            0.139516\n",
       "Whole weight      0.828742\n",
       "Shucked weight    0.359367\n",
       "Viscera weight    0.180594\n",
       "Shell weight      0.238831\n",
       "Rings             9.933684\n",
       "dtype: float64"
      ]
     },
     "execution_count": 27,
     "metadata": {},
     "output_type": "execute_result"
    }
   ],
   "source": [
    "data.mean()"
   ]
  },
  {
   "cell_type": "markdown",
   "metadata": {
    "id": "cAM9XOP15hk8"
   },
   "source": [
    "#### Length"
   ]
  },
  {
   "cell_type": "code",
   "execution_count": 28,
   "metadata": {
    "id": "zMqkiDiI5HZh"
   },
   "outputs": [],
   "source": [
    "data['Length']=np.where(data['Length']< 0.22,0.53,data['Length'])"
   ]
  },
  {
   "cell_type": "code",
   "execution_count": 29,
   "metadata": {
    "colab": {
     "base_uri": "https://localhost:8080/",
     "height": 296
    },
    "id": "0AoYtrfD5NhN",
    "outputId": "65e46361-a955-494f-e408-cb58520fd67a"
   },
   "outputs": [
    {
     "data": {
      "text/plain": [
       "<AxesSubplot:xlabel='Length'>"
      ]
     },
     "execution_count": 29,
     "metadata": {},
     "output_type": "execute_result"
    },
    {
     "data": {
      "image/png": "[encoded data removed]",
      "text/plain": [
       "<Figure size 432x288 with 1 Axes>"
      ]
     },
     "metadata": {
      "needs_background": "light"
     },
     "output_type": "display_data"
    }
   ],
   "source": [
    "sns.boxplot(x=data['Length'])"
   ]
  },
  {
   "cell_type": "markdown",
   "metadata": {
    "id": "ETx2PtqM5knF"
   },
   "source": [
    "#### Diameter"
   ]
  },
  {
   "cell_type": "code",
   "execution_count": 30,
   "metadata": {
    "id": "IWnifHgw5bdm"
   },
   "outputs": [],
   "source": [
    "data['Diameter']=np.where(data['Diameter']< 0.155,0.407,data['Diameter'])"
   ]
  },
  {
   "cell_type": "code",
   "execution_count": 31,
   "metadata": {
    "colab": {
     "base_uri": "https://localhost:8080/",
     "height": 296
    },
    "id": "DU268pWP5qkA",
    "outputId": "eddfbbe0-8578-4892-edba-671213ac24d0"
   },
   "outputs": [
    {
     "data": {
      "text/plain": [
       "<AxesSubplot:xlabel='Diameter'>"
      ]
     },
     "execution_count": 31,
     "metadata": {},
     "output_type": "execute_result"
    },
    {
     "data": {
      "image/png": "[encoded data removed]",
      "text/plain": [
       "<Figure size 432x288 with 1 Axes>"
      ]
     },
     "metadata": {
      "needs_background": "light"
     },
     "output_type": "display_data"
    }
   ],
   "source": [
    "sns.boxplot(x=data['Diameter'])"
   ]
  },
  {
   "cell_type": "markdown",
   "metadata": {
    "id": "px-qFNIe5w23"
   },
   "source": [
    "#### Height"
   ]
  },
  {
   "cell_type": "code",
   "execution_count": 32,
   "metadata": {
    "id": "LqWXbFqP5tXa"
   },
   "outputs": [],
   "source": [
    "data['Height']=np.where(data['Height']< 0.04,0.14,data['Height'])"
   ]
  },
  {
   "cell_type": "code",
   "execution_count": 33,
   "metadata": {
    "colab": {
     "base_uri": "https://localhost:8080/",
     "height": 296
    },
    "id": "bl1E4Wzo6Kbv",
    "outputId": "9a8221a6-5cc4-45a5-c83a-f70324a4e271"
   },
   "outputs": [
    {
     "data": {
      "text/plain": [
       "<AxesSubplot:xlabel='Height'>"
      ]
     },
     "execution_count": 33,
     "metadata": {},
     "output_type": "execute_result"
    },
    {
     "data": {
      "image/png": "[encoded data removed]",
      "text/plain": [
       "<Figure size 432x288 with 1 Axes>"
      ]
     },
     "metadata": {
      "needs_background": "light"
     },
     "output_type": "display_data"
    }
   ],
   "source": [
    "sns.boxplot(x=data['Height'])"
   ]
  },
  {
   "cell_type": "code",
   "execution_count": 34,
   "metadata": {
    "colab": {
     "base_uri": "https://localhost:8080/",
     "height": 296
    },
    "id": "3d_z69RP6dhc",
    "outputId": "6f781c49-43a0-4583-c3ae-56efc2dc045e"
   },
   "outputs": [
    {
     "data": {
      "text/plain": [
       "<AxesSubplot:xlabel='Height'>"
      ]
     },
     "execution_count": 34,
     "metadata": {},
     "output_type": "execute_result"
    },
    {
     "data": {
      "image/png": "[encoded data removed]",
      "text/plain": [
       "<Figure size 432x288 with 1 Axes>"
      ]
     },
     "metadata": {
      "needs_background": "light"
     },
     "output_type": "display_data"
    }
   ],
   "source": [
    "data['Height']=np.where(data['Height']>0.24,0.14,data['Height'])\n",
    "sns.boxplot(x=data['Height'])"
   ]
  },
  {
   "cell_type": "markdown",
   "metadata": {
    "id": "rXQPJctn6m_P"
   },
   "source": [
    "#### Whole weight"
   ]
  },
  {
   "cell_type": "code",
   "execution_count": 35,
   "metadata": {
    "colab": {
     "base_uri": "https://localhost:8080/",
     "height": 296
    },
    "id": "U_-bWfdZ6hvU",
    "outputId": "a5c58925-d7de-4f93-c243-e551119e93bd"
   },
   "outputs": [
    {
     "data": {
      "text/plain": [
       "<AxesSubplot:xlabel='Whole weight'>"
      ]
     },
     "execution_count": 35,
     "metadata": {},
     "output_type": "execute_result"
    },
    {
     "data": {
      "image/png": "[encoded data removed]",
      "text/plain": [
       "<Figure size 432x288 with 1 Axes>"
      ]
     },
     "metadata": {
      "needs_background": "light"
     },
     "output_type": "display_data"
    }
   ],
   "source": [
    "data['Whole weight']=np.where(data['Whole weight']>2.18,0.83,data['Whole weight'])\n",
    "sns.boxplot(x=data['Whole weight'])"
   ]
  },
  {
   "cell_type": "markdown",
   "metadata": {
    "id": "CRyEVeRb6yaE"
   },
   "source": [
    "#### Viscera weight"
   ]
  },
  {
   "cell_type": "code",
   "execution_count": 36,
   "metadata": {
    "colab": {
     "base_uri": "https://localhost:8080/",
     "height": 296
    },
    "id": "zugN5fMC6rIx",
    "outputId": "d620bece-ea61-404c-ad6b-f9f663d70833"
   },
   "outputs": [
    {
     "data": {
      "text/plain": [
       "<AxesSubplot:xlabel='Viscera weight'>"
      ]
     },
     "execution_count": 36,
     "metadata": {},
     "output_type": "execute_result"
    },
    {
     "data": {
      "image/png": "[encoded data removed]",
      "text/plain": [
       "<Figure size 432x288 with 1 Axes>"
      ]
     },
     "metadata": {
      "needs_background": "light"
     },
     "output_type": "display_data"
    }
   ],
   "source": [
    "data['Viscera weight']=np.where(data['Viscera weight']>0.478,0.18,data['Viscera weight'])\n",
    "sns.boxplot(x=data['Viscera weight'])"
   ]
  },
  {
   "cell_type": "markdown",
   "metadata": {
    "id": "GU1F_SVg67qW"
   },
   "source": [
    "#### Shell weight"
   ]
  },
  {
   "cell_type": "code",
   "execution_count": 37,
   "metadata": {
    "colab": {
     "base_uri": "https://localhost:8080/",
     "height": 296
    },
    "id": "W-_gM-V665n2",
    "outputId": "2a0fffff-1d4a-405c-a73c-55ce2967f4be"
   },
   "outputs": [
    {
     "data": {
      "text/plain": [
       "<AxesSubplot:xlabel='Shell weight'>"
      ]
     },
     "execution_count": 37,
     "metadata": {},
     "output_type": "execute_result"
    },
    {
     "data": {
      "image/png": "[encoded data removed]",
      "text/plain": [
       "<Figure size 432x288 with 1 Axes>"
      ]
     },
     "metadata": {
      "needs_background": "light"
     },
     "output_type": "display_data"
    }
   ],
   "source": [
    "data['Shell weight']=np.where(data['Shell weight']>0.61,0.238831,data['Shell weight'])\n",
    "sns.boxplot(x=data['Shell weight'])"
   ]
  },
  {
   "cell_type": "markdown",
   "metadata": {
    "id": "mwtjBaiG7GwM"
   },
   "source": [
    "#### Rings"
   ]
  },
  {
   "cell_type": "code",
   "execution_count": 38,
   "metadata": {
    "colab": {
     "base_uri": "https://localhost:8080/",
     "height": 296
    },
    "id": "L_-cd4Gs7AEL",
    "outputId": "c66ececb-1b84-4cab-b365-ee0765fa26dd"
   },
   "outputs": [
    {
     "data": {
      "text/plain": [
       "<AxesSubplot:xlabel='Rings'>"
      ]
     },
     "execution_count": 38,
     "metadata": {},
     "output_type": "execute_result"
    },
    {
     "data": {
      "image/png": "[encoded data removed]",
      "text/plain": [
       "<Figure size 432x288 with 1 Axes>"
      ]
     },
     "metadata": {
      "needs_background": "light"
     },
     "output_type": "display_data"
    }
   ],
   "source": [
    "data['Rings']=np.where(data['Rings']>15.5,9.933684,data['Rings'])\n",
    "sns.boxplot(x=data['Rings'])"
   ]
  },
  {
   "cell_type": "code",
   "execution_count": 39,
   "metadata": {
    "colab": {
     "base_uri": "https://localhost:8080/",
     "height": 296
    },
    "id": "GZLOH8827KsV",
    "outputId": "68288565-4df2-44b3-ac81-f921fed9289f"
   },
   "outputs": [
    {
     "data": {
      "text/plain": [
       "<AxesSubplot:xlabel='Rings'>"
      ]
     },
     "execution_count": 39,
     "metadata": {},
     "output_type": "execute_result"
    },
    {
     "data": {
      "image/png": "[encoded data removed]",
      "text/plain": [
       "<Figure size 432x288 with 1 Axes>"
      ]
     },
     "metadata": {
      "needs_background": "light"
     },
     "output_type": "display_data"
    }
   ],
   "source": [
    "data['Rings']=np.where(data['Rings']<3.5,9.933684,data['Rings'])\n",
    "sns.boxplot(x=data['Rings'])"
   ]
  },
  {
   "cell_type": "code",
   "execution_count": 40,
   "metadata": {
    "colab": {
     "base_uri": "https://localhost:8080/",
     "height": 540
    },
    "id": "iX8jnCwS7N5T",
    "outputId": "a33ec056-0203-44f1-852b-8f949569a047"
   },
   "outputs": [
    {
     "data": {
      "text/plain": [
       "Length               AxesSubplot(0.125,0.787927;0.168478x0.0920732)\n",
       "Diameter          AxesSubplot(0.327174,0.787927;0.168478x0.0920732)\n",
       "Height            AxesSubplot(0.529348,0.787927;0.168478x0.0920732)\n",
       "Whole weight      AxesSubplot(0.731522,0.787927;0.168478x0.0920732)\n",
       "Shucked weight       AxesSubplot(0.125,0.677439;0.168478x0.0920732)\n",
       "Viscera weight    AxesSubplot(0.327174,0.677439;0.168478x0.0920732)\n",
       "Shell weight      AxesSubplot(0.529348,0.677439;0.168478x0.0920732)\n",
       "Rings             AxesSubplot(0.731522,0.677439;0.168478x0.0920732)\n",
       "dtype: object"
      ]
     },
     "execution_count": 40,
     "metadata": {},
     "output_type": "execute_result"
    },
    {
     "data": {
      "image/png": "[encoded data removed]",
      "text/plain": [
       "<Figure size 1800x2160 with 28 Axes>"
      ]
     },
     "metadata": {
      "needs_background": "light"
     },
     "output_type": "display_data"
    }
   ],
   "source": [
    "data.plot(kind=\"box\",subplots=True,layout=(7,4),figsize=(25,30))"
   ]
  },
  {
   "cell_type": "markdown",
   "metadata": {
    "id": "TdQNoE469HsB"
   },
   "source": [
    "## 7. Check for Categorical Columns and perform encoding"
   ]
  },
  {
   "cell_type": "code",
   "execution_count": 41,
   "metadata": {
    "colab": {
     "base_uri": "https://localhost:8080/"
    },
    "id": "lCHDLEuw9Cbv",
    "outputId": "558c9acf-c95a-43e8-aa6e-184be95237da"
   },
   "outputs": [
    {
     "name": "stdout",
     "output_type": "stream",
     "text": [
      "<class 'pandas.core.frame.DataFrame'>\n",
      "RangeIndex: 4177 entries, 0 to 4176\n",
      "Data columns (total 9 columns):\n",
      " #   Column          Non-Null Count  Dtype  \n",
      "---  ------          --------------  -----  \n",
      " 0   Sex             4177 non-null   object \n",
      " 1   Length          4177 non-null   float64\n",
      " 2   Diameter        4177 non-null   float64\n",
      " 3   Height          4177 non-null   float64\n",
      " 4   Whole weight    4177 non-null   float64\n",
      " 5   Shucked weight  4177 non-null   float64\n",
      " 6   Viscera weight  4177 non-null   float64\n",
      " 7   Shell weight    4177 non-null   float64\n",
      " 8   Rings           4177 non-null   float64\n",
      "dtypes: float64(8), object(1)\n",
      "memory usage: 293.8+ KB\n"
     ]
    }
   ],
   "source": [
    "data.info()"
   ]
  },
  {
   "cell_type": "code",
   "execution_count": 42,
   "metadata": {
    "colab": {
     "base_uri": "https://localhost:8080/"
    },
    "id": "Y58aB5Os9YH9",
    "outputId": "0abb2c2f-c8d1-46cd-8c59-53c226527b13"
   },
   "outputs": [
    {
     "data": {
      "text/plain": [
       "array(['M', 'F', 'I'], dtype=object)"
      ]
     },
     "execution_count": 42,
     "metadata": {},
     "output_type": "execute_result"
    }
   ],
   "source": [
    "data['Sex'].unique()"
   ]
  },
  {
   "cell_type": "code",
   "execution_count": 43,
   "metadata": {
    "colab": {
     "base_uri": "https://localhost:8080/",
     "height": 206
    },
    "id": "gkpXoZCD9bKh",
    "outputId": "38c3407b-6605-4c0f-d31f-bb3226eb2b56"
   },
   "outputs": [
    {
     "data": {
      "text/html": [
       "<div>\n",
       "<style scoped>\n",
       "    .dataframe tbody tr th:only-of-type {\n",
       "        vertical-align: middle;\n",
       "    }\n",
       "\n",
       "    .dataframe tbody tr th {\n",
       "        vertical-align: top;\n",
       "    }\n",
       "\n",
       "    .dataframe thead th {\n",
       "        text-align: right;\n",
       "    }\n",
       "</style>\n",
       "<table border=\"1\" class=\"dataframe\">\n",
       "  <thead>\n",
       "    <tr style=\"text-align: right;\">\n",
       "      <th></th>\n",
       "      <th>Length</th>\n",
       "      <th>Diameter</th>\n",
       "      <th>Height</th>\n",
       "      <th>Whole weight</th>\n",
       "      <th>Shucked weight</th>\n",
       "      <th>Viscera weight</th>\n",
       "      <th>Shell weight</th>\n",
       "      <th>Rings</th>\n",
       "      <th>Sex_F</th>\n",
       "      <th>Sex_I</th>\n",
       "      <th>Sex_M</th>\n",
       "    </tr>\n",
       "  </thead>\n",
       "  <tbody>\n",
       "    <tr>\n",
       "      <th>0</th>\n",
       "      <td>0.455</td>\n",
       "      <td>0.365</td>\n",
       "      <td>0.095</td>\n",
       "      <td>0.5140</td>\n",
       "      <td>0.2245</td>\n",
       "      <td>0.1010</td>\n",
       "      <td>0.150</td>\n",
       "      <td>15.0</td>\n",
       "      <td>0</td>\n",
       "      <td>0</td>\n",
       "      <td>1</td>\n",
       "    </tr>\n",
       "    <tr>\n",
       "      <th>1</th>\n",
       "      <td>0.350</td>\n",
       "      <td>0.265</td>\n",
       "      <td>0.090</td>\n",
       "      <td>0.2255</td>\n",
       "      <td>0.0995</td>\n",
       "      <td>0.0485</td>\n",
       "      <td>0.070</td>\n",
       "      <td>7.0</td>\n",
       "      <td>0</td>\n",
       "      <td>0</td>\n",
       "      <td>1</td>\n",
       "    </tr>\n",
       "    <tr>\n",
       "      <th>2</th>\n",
       "      <td>0.530</td>\n",
       "      <td>0.420</td>\n",
       "      <td>0.135</td>\n",
       "      <td>0.6770</td>\n",
       "      <td>0.2565</td>\n",
       "      <td>0.1415</td>\n",
       "      <td>0.210</td>\n",
       "      <td>9.0</td>\n",
       "      <td>1</td>\n",
       "      <td>0</td>\n",
       "      <td>0</td>\n",
       "    </tr>\n",
       "    <tr>\n",
       "      <th>3</th>\n",
       "      <td>0.440</td>\n",
       "      <td>0.365</td>\n",
       "      <td>0.125</td>\n",
       "      <td>0.5160</td>\n",
       "      <td>0.2155</td>\n",
       "      <td>0.1140</td>\n",
       "      <td>0.155</td>\n",
       "      <td>10.0</td>\n",
       "      <td>0</td>\n",
       "      <td>0</td>\n",
       "      <td>1</td>\n",
       "    </tr>\n",
       "    <tr>\n",
       "      <th>4</th>\n",
       "      <td>0.330</td>\n",
       "      <td>0.255</td>\n",
       "      <td>0.080</td>\n",
       "      <td>0.2050</td>\n",
       "      <td>0.0895</td>\n",
       "      <td>0.0395</td>\n",
       "      <td>0.055</td>\n",
       "      <td>7.0</td>\n",
       "      <td>0</td>\n",
       "      <td>1</td>\n",
       "      <td>0</td>\n",
       "    </tr>\n",
       "  </tbody>\n",
       "</table>\n",
       "</div>"
      ],
      "text/plain": [
       "   Length  Diameter  Height  Whole weight  Shucked weight  Viscera weight  \\\n",
       "0   0.455     0.365   0.095        0.5140          0.2245          0.1010   \n",
       "1   0.350     0.265   0.090        0.2255          0.0995          0.0485   \n",
       "2   0.530     0.420   0.135        0.6770          0.2565          0.1415   \n",
       "3   0.440     0.365   0.125        0.5160          0.2155          0.1140   \n",
       "4   0.330     0.255   0.080        0.2050          0.0895          0.0395   \n",
       "\n",
       "   Shell weight  Rings  Sex_F  Sex_I  Sex_M  \n",
       "0         0.150   15.0      0      0      1  \n",
       "1         0.070    7.0      0      0      1  \n",
       "2         0.210    9.0      1      0      0  \n",
       "3         0.155   10.0      0      0      1  \n",
       "4         0.055    7.0      0      1      0  "
      ]
     },
     "execution_count": 43,
     "metadata": {},
     "output_type": "execute_result"
    }
   ],
   "source": [
    "df=pd.get_dummies(data,columns=['Sex'])\n",
    "df.head()"
   ]
  },
  {
   "cell_type": "markdown",
   "metadata": {
    "id": "0q39FAXh-rsm"
   },
   "source": [
    "##8. Split the data into dependent and independent variables"
   ]
  },
  {
   "cell_type": "markdown",
   "metadata": {
    "id": "wwefsLrb_D71"
   },
   "source": [
    "At first, the data is splitted as dependent variable initially"
   ]
  },
  {
   "cell_type": "code",
   "execution_count": 44,
   "metadata": {
    "colab": {
     "base_uri": "https://localhost:8080/"
    },
    "id": "dyGFfLMd-nC6",
    "outputId": "dfdd2a13-aa5a-44d1-d7a8-b2ddf523828a"
   },
   "outputs": [
    {
     "data": {
      "text/plain": [
       "array([15.,  7.,  9., ...,  9., 10., 12.])"
      ]
     },
     "execution_count": 44,
     "metadata": {},
     "output_type": "execute_result"
    }
   ],
   "source": [
    "y = df['Rings'].values\n",
    "y"
   ]
  },
  {
   "cell_type": "markdown",
   "metadata": {
    "id": "5Mk8x-A0_KUG"
   },
   "source": [
    "Here then the data is splitted as independent variables"
   ]
  },
  {
   "cell_type": "code",
   "execution_count": 45,
   "metadata": {
    "colab": {
     "base_uri": "https://localhost:8080/"
    },
    "id": "Tc24BViU-9MT",
    "outputId": "8eb27484-2c9f-4d76-87d5-6c6109df8aca"
   },
   "outputs": [
    {
     "data": {
      "text/plain": [
       "array([[0.455, 0.365, 0.095, ..., 0.   , 0.   , 1.   ],\n",
       "       [0.35 , 0.265, 0.09 , ..., 0.   , 0.   , 1.   ],\n",
       "       [0.53 , 0.42 , 0.135, ..., 1.   , 0.   , 0.   ],\n",
       "       ...,\n",
       "       [0.6  , 0.475, 0.205, ..., 0.   , 0.   , 1.   ],\n",
       "       [0.625, 0.485, 0.15 , ..., 1.   , 0.   , 0.   ],\n",
       "       [0.71 , 0.555, 0.195, ..., 0.   , 0.   , 1.   ]])"
      ]
     },
     "execution_count": 45,
     "metadata": {},
     "output_type": "execute_result"
    }
   ],
   "source": [
    "x=df.drop(columns=['Rings'],axis=1).values\n",
    "x"
   ]
  },
  {
   "cell_type": "markdown",
   "metadata": {
    "id": "dy0LcMIWAVtK"
   },
   "source": [
    "## 9. Scale the independent variables"
   ]
  },
  {
   "cell_type": "code",
   "execution_count": 46,
   "metadata": {
    "id": "A-YFHYBYAEQH"
   },
   "outputs": [],
   "source": [
    "from sklearn.preprocessing import scale"
   ]
  },
  {
   "cell_type": "markdown",
   "metadata": {
    "id": "HX_LBgf6An3O"
   },
   "source": [
    "Scaling the independent variables"
   ]
  },
  {
   "cell_type": "code",
   "execution_count": 47,
   "metadata": {
    "colab": {
     "base_uri": "https://localhost:8080/"
    },
    "id": "4JcmnqbrAizS",
    "outputId": "259eafa5-5521-4478-8012-3f559f25d0ef"
   },
   "outputs": [
    {
     "data": {
      "text/plain": [
       "array([[-0.66489959, -0.50167301, -1.19856285, ..., -0.67483383,\n",
       "        -0.68801788,  1.31667716],\n",
       "       [-1.60274931, -1.57291477, -1.332413  , ..., -0.67483383,\n",
       "        -0.68801788,  1.31667716],\n",
       "       [ 0.00499306,  0.08750996, -0.12776168, ...,  1.48184628,\n",
       "        -0.68801788, -0.75948762],\n",
       "       ...,\n",
       "       [ 0.6302262 ,  0.67669293,  1.74614038, ..., -0.67483383,\n",
       "        -0.68801788,  1.31667716],\n",
       "       [ 0.85352375,  0.78381711,  0.27378876, ...,  1.48184628,\n",
       "        -0.68801788, -0.75948762],\n",
       "       [ 1.61273542,  1.53368634,  1.47844008, ..., -0.67483383,\n",
       "        -0.68801788,  1.31667716]])"
      ]
     },
     "execution_count": 47,
     "metadata": {},
     "output_type": "execute_result"
    }
   ],
   "source": [
    "x = scale(x)\n",
    "x"
   ]
  },
  {
   "cell_type": "markdown",
   "metadata": {
    "id": "nLPMb9keA1-6"
   },
   "source": [
    "##10. Split the data into training and testing\n",
    "\n",
    "Spitting is done in the data for to terminate the overfitting instance"
   ]
  },
  {
   "cell_type": "code",
   "execution_count": 48,
   "metadata": {
    "id": "HYBvLADWAmfP"
   },
   "outputs": [],
   "source": [
    "from sklearn.model_selection import train_test_split\n",
    "x_train,x_test,y_train,y_test = train_test_split(x,y,test_size=0.2,random_state=0)"
   ]
  },
  {
   "cell_type": "markdown",
   "metadata": {
    "id": "pZyPDatNBOQs"
   },
   "source": [
    "##11. Build the model"
   ]
  },
  {
   "cell_type": "code",
   "execution_count": 49,
   "metadata": {
    "id": "lqSHBNG7BMW8"
   },
   "outputs": [],
   "source": [
    "from sklearn.linear_model import LinearRegression"
   ]
  },
  {
   "cell_type": "code",
   "execution_count": 50,
   "metadata": {
    "id": "wC0U_AG6BpBg"
   },
   "outputs": [],
   "source": [
    "LR_data = LinearRegression()"
   ]
  },
  {
   "cell_type": "markdown",
   "metadata": {
    "id": "_mti2xVSCI0v"
   },
   "source": [
    "##12. Train the model"
   ]
  },
  {
   "cell_type": "code",
   "execution_count": 51,
   "metadata": {
    "colab": {
     "base_uri": "https://localhost:8080/"
    },
    "id": "aYRYjzOxBvqJ",
    "outputId": "671ba577-9a5a-4101-e338-4cbde2cb911d"
   },
   "outputs": [
    {
     "data": {
      "text/plain": [
       "LinearRegression()"
      ]
     },
     "execution_count": 51,
     "metadata": {},
     "output_type": "execute_result"
    }
   ],
   "source": [
    "LR_data.fit(x_train,y_train)"
   ]
  },
  {
   "cell_type": "markdown",
   "metadata": {
    "id": "0hOSGi_zCOXZ"
   },
   "source": [
    "##13. Test the model"
   ]
  },
  {
   "cell_type": "code",
   "execution_count": 52,
   "metadata": {
    "colab": {
     "base_uri": "https://localhost:8080/"
    },
    "id": "4EdmMHHFB0jj",
    "outputId": "314b413f-ca3c-4fcb-b9b3-b6e5126be1d2"
   },
   "outputs": [
    {
     "data": {
      "text/plain": [
       "array([11.08228223,  8.56966884, 10.32030044,  5.81176543, 10.55729215,\n",
       "       10.9994349 ,  8.54001942,  9.53485842,  7.94863295, 10.77269024,\n",
       "        8.19215121,  6.52908683,  8.66850868,  9.2973361 ,  6.01083471,\n",
       "        9.75914873,  8.11101851, 11.75022898, 10.81483963,  7.73496842,\n",
       "        7.41053314,  6.74781725,  8.23953132,  8.11840717,  8.89522864,\n",
       "       10.57559174,  9.72037664, 11.28706181,  9.43312716, 10.14641252,\n",
       "        8.39316234,  8.8039055 , 10.9525804 , 12.02522277,  7.53517987,\n",
       "        9.32949791,  8.40188368, 10.50939368,  8.09904951, 10.79586419,\n",
       "       10.94929657,  9.46697917, 10.48376606, 10.50144385, 11.1670716 ,\n",
       "        9.38225325,  9.91895083, 11.53682606, 10.27297441,  7.61410868,\n",
       "       10.4713174 ,  7.20448532,  9.03017812, 11.356673  ,  9.55456045,\n",
       "        8.5018384 ,  7.09159514,  7.94693174,  7.21751933,  6.98757808,\n",
       "        9.94698656,  9.80099511, 10.09841352,  8.00855471,  7.61817453,\n",
       "       11.14757173, 11.61734435, 11.55164769,  8.66917205, 12.04021673,\n",
       "        8.83622564,  9.75782385, 10.89910371,  9.63665711,  9.8777527 ,\n",
       "        8.42996299,  9.51672887,  9.58366845, 10.68830978,  8.73878538,\n",
       "        9.87519458,  6.24216196,  7.46272773, 11.51671312,  9.26602534,\n",
       "        7.86033293, 10.08675532, 11.48861403,  7.15583586,  7.20823893,\n",
       "        9.25955438, 10.5135441 ,  8.80205157,  5.96821038, 11.03820868,\n",
       "        6.34253804,  9.10644111,  8.23448851, 11.93884253, 10.39063176,\n",
       "       10.30268476,  9.73834615, 10.37039546, 10.56666852,  5.51715519,\n",
       "       10.59026121,  7.73266105,  6.81423859,  7.46390391, 10.76425976,\n",
       "       10.34137057, 10.84480412, 10.43422974,  9.08751118, 11.26635598,\n",
       "       10.52393209, 11.27977725, 10.59392866,  7.90318892,  9.11598253,\n",
       "        7.05212554, 11.05205507,  6.87976005,  8.50487371, 10.32054822,\n",
       "       10.84229109, 10.60555739, 10.98968567,  7.58419342, 10.4650622 ,\n",
       "       10.18657115,  8.66767889,  9.60518655, 10.76431178, 11.01553273,\n",
       "       10.61145027,  9.84247572,  8.44356656,  7.33992751, 12.02925318,\n",
       "        9.97431976, 10.16580067,  7.14588736,  9.23399219, 11.00524129,\n",
       "       10.21169582,  8.35732837,  7.75145083,  7.74665334,  6.8426816 ,\n",
       "        8.86467465, 11.82927129,  7.08179464, 10.52939162,  8.05616043,\n",
       "        7.00941132, 10.10641561,  7.16366456, 11.33781088,  8.09588593,\n",
       "       10.12725958,  7.69896715,  9.17693255, 10.62944687,  5.6438917 ,\n",
       "       10.29974969,  7.78733198,  6.76264614, 10.82321826,  8.99210726,\n",
       "        8.76902175,  8.04610206,  8.79382214, 10.61393282, 11.22688427,\n",
       "       10.35033233,  6.07770966,  8.25470924,  8.213741  , 10.27462722,\n",
       "        8.94599204, 10.5378465 ,  8.95751268,  8.62462495, 10.30962543,\n",
       "        9.85800861,  9.85262179,  8.31169248,  6.74335446,  9.13093721,\n",
       "       10.08415796,  9.73417271,  8.54193641, 10.14393894, 10.28679471,\n",
       "        9.33939178,  7.75512301,  9.05978368,  7.26748941, 11.4517217 ,\n",
       "        9.42964467,  9.73562131, 10.50933671,  9.84315777,  9.8632213 ,\n",
       "       11.11503637,  7.17975714, 11.34533612,  8.99051724, 10.6721848 ,\n",
       "        6.06885247,  9.11675091, 10.42790307,  9.87698215, 10.70015098,\n",
       "        9.10554413,  8.97902423, 10.43882336,  6.00731782, 11.51876959,\n",
       "       10.29715373, 11.32921727,  8.04733038,  9.89266469, 11.30027714,\n",
       "       11.60289359, 11.17699499,  9.50551519,  9.20403118,  8.77749295,\n",
       "        9.63252023,  9.00427973,  6.2115452 , 10.75444087,  8.537553  ,\n",
       "       11.06449806,  7.86375843,  5.8809318 ,  8.43081281,  9.85494883,\n",
       "        8.98947889,  9.85943592, 10.32785593, 10.39133168,  9.18024164,\n",
       "        9.25369648, 10.46664337,  7.88372957, 10.22544322, 12.05235723,\n",
       "       11.34904046,  8.56935135, 11.48901444, 10.3093553 ,  9.40019618,\n",
       "       10.47830442,  7.26776001,  8.74401926,  9.27418676, 11.98025614,\n",
       "       10.31072149,  9.12281005, 10.63876398,  7.78539018,  9.77745611,\n",
       "        8.21445342,  8.94681788,  7.80432755,  7.49699319,  7.96240307,\n",
       "        9.80532123,  8.82308437,  8.52700701,  8.54950853,  6.54455887,\n",
       "       10.79058288, 11.23902316,  9.29698457, 10.20537047,  9.82876048,\n",
       "        7.27899914, 11.29492924,  7.48315931,  9.79395196,  9.96026292,\n",
       "       10.20525594,  7.66906375, 10.19724002, 10.38619647, 11.06796119,\n",
       "        7.4522679 ,  8.5086858 ,  6.03147942,  8.89554096,  7.27972502,\n",
       "        8.71382536,  6.83341274,  6.44734298,  9.03394545, 12.32976161,\n",
       "        9.20784618,  8.59928071, 11.44476388,  8.95829166,  9.23318255,\n",
       "        8.17440832,  9.82101326, 10.00873036, 10.52870912,  9.72226084,\n",
       "       10.20271412, 10.67586818,  7.86294374,  9.1659282 , 12.10889857,\n",
       "       11.07889657,  8.80723642,  6.80872535,  7.88965203, 10.12726498,\n",
       "       10.55620097,  9.77085786,  9.17321497, 10.63764692, 11.18842335,\n",
       "        9.60712717,  8.5899275 ,  9.50170079, 12.92416996, 10.19139721,\n",
       "        8.6599811 , 10.90973804,  8.81444722, 10.14659975,  9.13701735,\n",
       "       11.16380861,  8.29178522,  8.6370042 , 10.74624725, 10.53312098,\n",
       "        8.67528957,  9.63743876, 10.47032212, 10.65838152, 11.2320757 ,\n",
       "        7.39779072,  6.17345477, 10.62184391, 11.46680932,  7.41819984,\n",
       "        6.63997503,  8.54602393, 11.53311592, 10.39141278, 10.61078202,\n",
       "        9.6983114 , 10.53664559,  9.90332986,  7.89712274,  9.81680375,\n",
       "        9.0211053 , 10.03570118,  7.95040133,  9.77682061,  9.19925574,\n",
       "        7.13889885,  6.61526908,  9.48486666,  8.85053216,  9.81962527,\n",
       "       10.62152942,  7.16667361, 10.93412892,  8.01996177, 11.54557707,\n",
       "       11.1270885 , 11.78354748,  7.87533667, 10.26420982,  7.24583427,\n",
       "        9.16118771,  9.58938254,  9.93684764, 11.59367775,  7.26134577,\n",
       "       10.69292368, 12.90479267,  9.45603264,  7.66410844,  6.65322008,\n",
       "       12.56223429,  9.96474351,  9.60107551,  9.66890747,  9.77239022,\n",
       "        7.35331254, 10.94775579,  8.24514696, 10.57745929, 10.07943624,\n",
       "        7.85205973,  9.46404464,  7.09767237, 11.87959558,  8.56531664,\n",
       "       10.42777206,  7.39112173, 11.42325972, 12.75751836,  9.4256943 ,\n",
       "        9.84594527,  7.69844769, 10.60545888,  9.30032177, 11.98728856,\n",
       "        9.58362651,  9.88244777, 10.58424049, 12.15584565, 10.62628886,\n",
       "        9.29861228,  8.80060473, 10.50445097, 10.68353268,  6.29712306,\n",
       "        8.67458592, 10.14927193, 10.60297233, 10.71790353, 11.80372507,\n",
       "        8.77929764, 10.96490617,  9.2360408 , 11.15867969,  8.27420979,\n",
       "        9.13760345, 11.26573462,  9.86801226,  9.77134617, 10.4974762 ,\n",
       "        7.83285233,  6.82457305, 11.4616902 ,  8.11098776,  6.91410946,\n",
       "        7.1599115 , 11.40318777,  6.03089422,  9.96297817, 10.2771248 ,\n",
       "        7.86716576,  6.85818577,  9.89820295,  6.96279627,  4.59045835,\n",
       "        8.6034357 , 10.56491022,  9.91995254,  9.22585136, 11.15698973,\n",
       "        7.3660822 , 12.24261013,  9.06436693, 10.02868437,  9.57598086,\n",
       "       11.28462696,  7.60523455, 13.15761777,  9.82990765,  8.79335416,\n",
       "        8.46413954, 10.30533172,  7.4068158 , 12.37543041,  8.28700726,\n",
       "        9.28598157,  7.76027094,  7.7224324 ,  8.13168456,  9.9627632 ,\n",
       "        9.83936065, 11.51719216,  9.00924731, 10.7213736 , 12.16730894,\n",
       "       11.25976819, 10.26319219,  9.57937288,  8.02118043, 10.76600842,\n",
       "        7.1987701 ,  9.51403016, 10.52991176, 10.06226592,  7.02452888,\n",
       "        7.2507117 ,  8.73847658,  6.39461618, 10.03212789,  9.78147727,\n",
       "        8.45883047, 10.86279084,  7.09061851, 11.06509787, 10.10012992,\n",
       "       10.47594142, 10.60247835, 11.82793168,  7.61920142,  6.0322102 ,\n",
       "        9.96647728,  9.54789863, 12.12989488, 12.30991782,  9.4233826 ,\n",
       "        7.9988647 , 10.36777288, 10.6530017 , 12.03196055, 10.12057961,\n",
       "        9.60560851,  9.89752587, 10.25655252,  9.87782875,  7.13815689,\n",
       "       10.97825453,  9.25384304,  9.69057497,  8.42863428,  8.24825719,\n",
       "        8.3850582 ,  7.81962028,  8.77859594, 10.312612  ,  5.54318552,\n",
       "       10.10158573, 11.06849188, 11.51407693,  9.11196464, 11.72976304,\n",
       "        7.6919307 , 10.13776816,  8.57952941, 11.02442884,  7.93885281,\n",
       "       10.00946433,  8.38120411,  8.93099816, 10.51653949,  9.89125354,\n",
       "       10.20819464, 11.84695627,  7.97439128, 10.64206122, 10.22897446,\n",
       "        7.75748264,  8.96959258,  9.61620125, 10.3521802 , 10.13995426,\n",
       "       10.68383087,  9.96591186, 10.89297993,  9.48060542, 10.99009488,\n",
       "        7.20041337,  8.83033623,  8.09289107,  9.77366455,  7.78400999,\n",
       "        9.92363441,  9.2365673 ,  8.2993223 ,  9.81563704,  8.40526762,\n",
       "        7.66030216, 10.47650759, 10.06172663, 11.14747508,  7.05600211,\n",
       "       11.20653933,  6.51087234,  5.87870757,  6.67128981,  9.04409343,\n",
       "        9.61801441, 11.35579582,  9.93241644,  8.4112303 , 11.34794562,\n",
       "        6.17994041,  8.77838997,  9.84369355,  7.66774151, 10.1048587 ,\n",
       "       10.60809729,  8.81397457,  7.99813788,  6.52383968, 10.37027032,\n",
       "        8.52230495, 11.5153135 ,  9.94603378,  9.94824808, 11.17183121,\n",
       "        9.80932605,  9.82345649,  7.82004125,  9.03366368, 11.14792345,\n",
       "        7.45556387, 11.53225348,  9.47479037,  8.5868848 , 10.08744759,\n",
       "       11.3659476 ,  8.33544991,  7.50593294, 12.20581899,  9.91050922,\n",
       "       10.09414618, 11.43317761,  7.24413604, 10.03636012, 10.55392214,\n",
       "       10.53846846,  8.18873858, 10.20421007,  9.13271296,  9.92924496,\n",
       "        9.67729467,  7.07237845,  8.59020009,  7.81401952,  8.61041945,\n",
       "        9.03732704,  5.44697031, 12.43525774,  8.85301327, 10.1553731 ,\n",
       "        9.75452324, 10.31625996, 10.83338992,  9.66761609,  9.68373142,\n",
       "        9.55650962,  7.31043833,  9.10744405, 10.56642159,  8.95236328,\n",
       "        8.78057312,  7.75046541,  8.59405098,  9.55913683,  7.04000661,\n",
       "       11.00364825,  7.58536094,  8.12333473, 10.50814273, 11.29892518,\n",
       "        9.99942677,  7.7201347 , 11.31073272, 10.44509162, 10.48330472,\n",
       "        8.17667822,  8.65469115,  6.34883724,  6.84523305, 10.49186976,\n",
       "        9.89900305, 11.93649151, 12.32597948, 10.94306672,  6.03809693,\n",
       "        7.6842108 ,  8.99701099,  6.69163702,  8.73804667, 12.87695303,\n",
       "       11.93691481,  9.75828409, 10.61421721,  9.64200991,  9.45951973,\n",
       "        7.73667296, 10.52642509, 10.60238763,  9.36186271, 13.02960129,\n",
       "        9.8937106 , 11.06730852, 10.77711441, 11.64195163,  8.27111109,\n",
       "       10.51999048, 11.67109527, 11.21733778,  8.84960466,  8.71120158,\n",
       "        7.06025274, 10.42099516,  9.71143195, 11.26254678,  9.35071075,\n",
       "       10.57486547,  9.42960066,  8.12648039, 11.98381122, 10.31963176,\n",
       "        6.16293523,  7.93375702,  6.19359602, 10.32035952,  7.21395848,\n",
       "        9.50534746, 10.43950376,  8.09937815,  7.42715604,  7.79452463,\n",
       "       11.17128503,  7.41954987,  9.37286584,  7.03414644, 11.52605377,\n",
       "        6.14034421,  9.60706009,  9.08406661, 10.69264188, 10.77207538,\n",
       "        9.17367846, 10.93171086, 10.87756455, 11.89395437,  8.42610551,\n",
       "       10.39402767,  8.69630754,  9.49653719,  9.39807941,  6.22761864,\n",
       "       10.19597953,  9.25508904,  6.97876596,  7.16247922, 10.30765849,\n",
       "        7.34423419,  9.79416694,  9.36532359,  8.34141818,  9.11792996,\n",
       "        8.95683754,  8.74640582,  8.11465244, 10.71897264,  8.67699431,\n",
       "       11.07365123,  9.84088258,  7.16681525,  9.84388741, 11.44537399,\n",
       "        6.9810208 ,  6.73129479,  7.40040646,  6.41885254, 10.64680308,\n",
       "        8.83029238, 10.53546334,  8.79364201, 10.59046136,  8.81097171,\n",
       "        6.98519397,  9.01245828, 11.36591794,  9.68502233,  9.57372772,\n",
       "        9.04423296,  7.07213786, 11.21030358,  7.35302067, 10.05942457,\n",
       "       12.0023644 , 10.99499171,  7.61552049,  8.04669287,  8.41069717,\n",
       "        9.07576569,  9.30636398,  7.95418517,  9.94219727, 10.44845468,\n",
       "        9.77811171, 10.42320773, 11.65522274,  9.85734806, 11.28352081,\n",
       "        9.71641441,  9.5647138 ,  9.86073465,  8.80487552, 10.02629827,\n",
       "        9.09857689,  7.87308487,  8.88973271,  6.28977011,  6.75810584,\n",
       "        8.85542963,  9.17613835, 11.0152967 ,  7.69635447,  8.86917712,\n",
       "        8.33574121,  8.52504401, 10.07546461, 10.87348174, 11.12600333,\n",
       "        9.37752213,  9.7094739 , 10.88125998, 10.42445949,  9.32858723,\n",
       "        6.23559502,  8.95014112, 10.74548885,  6.65330893,  7.98121219,\n",
       "        9.53804244, 10.60557278,  9.80872325,  6.7704175 ,  6.99286938,\n",
       "        8.53696884, 10.16186027,  9.00432226,  7.84306215, 11.12059444,\n",
       "        5.91703317])"
      ]
     },
     "execution_count": 52,
     "metadata": {},
     "output_type": "execute_result"
    }
   ],
   "source": [
    "y_predict = LR_data.predict(x_test)\n",
    "y_predict"
   ]
  },
  {
   "cell_type": "markdown",
   "metadata": {
    "id": "TIzfDv88CtS6"
   },
   "source": [
    "##14. Measure the performance using Metrics\n",
    "Here, we are measuring the performance using one of the regression metrics such as r2_score\n",
    "\n",
    "We are performing the metrics analysis using the following regression metrics\n",
    "- R2 Score \n",
    "- Mean Absolute Percentage Error\n",
    "- Mean Poisson Deviance\n",
    "- Mean Pinboll Loss"
   ]
  },
  {
   "cell_type": "markdown",
   "metadata": {
    "id": "x9TGlddWE5DE"
   },
   "source": [
    "#### R2 Score"
   ]
  },
  {
   "cell_type": "code",
   "execution_count": 55,
   "metadata": {
    "colab": {
     "base_uri": "https://localhost:8080/"
    },
    "id": "11_TWDq5CXat",
    "outputId": "396bbff4-eeda-431d-fa1d-c16e35d25e2a"
   },
   "outputs": [
    {
     "data": {
      "text/plain": [
       "0.49114302349711947"
      ]
     },
     "execution_count": 55,
     "metadata": {},
     "output_type": "execute_result"
    }
   ],
   "source": [
    "from sklearn.metrics import r2_score\n",
    "score = r2_score(y_test,y_predict)\n",
    "score"
   ]
  },
  {
   "cell_type": "markdown",
   "metadata": {
    "id": "89_ciPe7FBAN"
   },
   "source": [
    "From the above R2 Score, it is less than 1.0 which means that all predictions matches the expected values exactly."
   ]
  },
  {
   "cell_type": "markdown",
   "metadata": {
    "id": "r-ZYVrYJE0Vs"
   },
   "source": [
    "#### Mean Absolute Percentage Error"
   ]
  },
  {
   "cell_type": "code",
   "execution_count": 57,
   "metadata": {
    "colab": {
     "base_uri": "https://localhost:8080/"
    },
    "id": "Lv874opjDd2r",
    "outputId": "2fd19f30-d5b8-486c-feaf-1b580830a1e6"
   },
   "outputs": [
    {
     "data": {
      "text/plain": [
       "0.14763939100754475"
      ]
     },
     "execution_count": 57,
     "metadata": {},
     "output_type": "execute_result"
    }
   ],
   "source": [
    "from sklearn.metrics import mean_absolute_percentage_error\n",
    "MSE = mean_absolute_percentage_error(y_test,y_predict)\n",
    "MSE"
   ]
  },
  {
   "cell_type": "markdown",
   "metadata": {
    "id": "ZMwVZqrJFzzq"
   },
   "source": [
    "Also by checking the performance using Mean Absolute Percentage Error above,we can see that the prediction is under 1.0 value. Hence, the prediction succeeds"
   ]
  },
  {
   "cell_type": "markdown",
   "metadata": {
    "id": "tJoOPwf2Go2Q"
   },
   "source": [
    "#### Mean Poisson Deviance"
   ]
  },
  {
   "cell_type": "code",
   "execution_count": 59,
   "metadata": {
    "colab": {
     "base_uri": "https://localhost:8080/"
    },
    "id": "vLzdboSxDum2",
    "outputId": "8d33a40e-3327-41db-c1e0-276d95338ec9"
   },
   "outputs": [
    {
     "data": {
      "text/plain": [
       "0.29797936844250794"
      ]
     },
     "execution_count": 59,
     "metadata": {},
     "output_type": "execute_result"
    }
   ],
   "source": [
    "from sklearn.metrics import mean_poisson_deviance\n",
    "MPD = mean_poisson_deviance(y_test,y_predict)\n",
    "MPD"
   ]
  },
  {
   "cell_type": "markdown",
   "metadata": {
    "id": "E6RSHM_EGdHU"
   },
   "source": [
    "It results under 1.0 for Mean Poisson Deviance also as accurate at prediction"
   ]
  },
  {
   "cell_type": "markdown",
   "metadata": {
    "id": "MGpp4ebeGzp7"
   },
   "source": [
    "#### Mean Pinball Loss"
   ]
  },
  {
   "cell_type": "code",
   "execution_count": 69,
   "metadata": {
    "colab": {
     "base_uri": "https://localhost:8080/"
    },
    "id": "AoGwyaG9GWJb",
    "outputId": "317140f6-82de-4dc0-bc9d-3ff56f777c8c"
   },
   "outputs": [
    {
     "ename": "ImportError",
     "evalue": "cannot import name 'mean_pinball_loss' from 'sklearn.metrics' (C:\\Users\\jeeva\\anaconda3\\lib\\site-packages\\sklearn\\metrics\\__init__.py)",
     "output_type": "error",
     "traceback": [
      "\u001b[1;31m---------------------------------------------------------------------------\u001b[0m",
      "\u001b[1;31mImportError\u001b[0m                               Traceback (most recent call last)",
      "\u001b[1;32m~\\AppData\\Local\\Temp/ipykernel_25592/4031171265.py\u001b[0m in \u001b[0;36m<module>\u001b[1;34m\u001b[0m\n\u001b[1;32m----> 1\u001b[1;33m \u001b[1;32mfrom\u001b[0m \u001b[0msklearn\u001b[0m\u001b[1;33m.\u001b[0m\u001b[0mmetrics\u001b[0m \u001b[1;32mimport\u001b[0m \u001b[0mmean_pinball_loss\u001b[0m\u001b[1;33m\u001b[0m\u001b[1;33m\u001b[0m\u001b[0m\n\u001b[0m\u001b[0;32m      2\u001b[0m \u001b[0mpinball_score\u001b[0m \u001b[1;33m=\u001b[0m \u001b[0mmean_pinball_loss\u001b[0m\u001b[1;33m(\u001b[0m\u001b[0my_test\u001b[0m\u001b[1;33m,\u001b[0m\u001b[0my_predict\u001b[0m\u001b[1;33m)\u001b[0m\u001b[1;33m\u001b[0m\u001b[1;33m\u001b[0m\u001b[0m\n\u001b[0;32m      3\u001b[0m \u001b[0mpinball_score\u001b[0m\u001b[1;33m\u001b[0m\u001b[1;33m\u001b[0m\u001b[0m\n",
      "\u001b[1;31mImportError\u001b[0m: cannot import name 'mean_pinball_loss' from 'sklearn.metrics' (C:\\Users\\jeeva\\anaconda3\\lib\\site-packages\\sklearn\\metrics\\__init__.py)"
     ]
    }
   ],
   "source": [
    "from sklearn.metrics import mean_pinball_loss\n",
    "pinball_score = mean_pinball_loss(y_test,y_predict)\n",
    "pinball_score"
   ]
  },
  {
   "cell_type": "markdown",
   "metadata": {
    "id": "nvY-EA_ZHJen"
   },
   "source": [
    "It is good for mean_pinball_loss also in prediction"
   ]
  },
  {
   "cell_type": "code",
   "execution_count": 65,
   "metadata": {
    "colab": {
     "base_uri": "https://localhost:8080/",
     "height": 206
    },
    "id": "NEx7jcf8H5tJ",
    "outputId": "7e22d76c-8e06-4aae-8229-17a6eb7b6c95"
   },
   "outputs": [
    {
     "data": {
      "text/html": [
       "\n",
       "  <div id=\"df-ef4a9557-d9ef-4601-ba77-ead986e0a226\">\n",
       "    <div class=\"colab-df-container\">\n",
       "      <div>\n",
       "<style scoped>\n",
       "    .dataframe tbody tr th:only-of-type {\n",
       "        vertical-align: middle;\n",
       "    }\n",
       "\n",
       "    .dataframe tbody tr th {\n",
       "        vertical-align: top;\n",
       "    }\n",
       "\n",
       "    .dataframe thead th {\n",
       "        text-align: right;\n",
       "    }\n",
       "</style>\n",
       "<table border=\"1\" class=\"dataframe\">\n",
       "  <thead>\n",
       "    <tr style=\"text-align: right;\">\n",
       "      <th></th>\n",
       "      <th>Length</th>\n",
       "      <th>Diameter</th>\n",
       "      <th>Height</th>\n",
       "      <th>Whole weight</th>\n",
       "      <th>Shucked weight</th>\n",
       "      <th>Viscera weight</th>\n",
       "      <th>Shell weight</th>\n",
       "      <th>Rings</th>\n",
       "      <th>Sex_F</th>\n",
       "      <th>Sex_I</th>\n",
       "      <th>Sex_M</th>\n",
       "    </tr>\n",
       "  </thead>\n",
       "  <tbody>\n",
       "    <tr>\n",
       "      <th>0</th>\n",
       "      <td>0.455</td>\n",
       "      <td>0.365</td>\n",
       "      <td>0.095</td>\n",
       "      <td>0.5140</td>\n",
       "      <td>0.2245</td>\n",
       "      <td>0.1010</td>\n",
       "      <td>0.150</td>\n",
       "      <td>15.0</td>\n",
       "      <td>0</td>\n",
       "      <td>0</td>\n",
       "      <td>1</td>\n",
       "    </tr>\n",
       "    <tr>\n",
       "      <th>1</th>\n",
       "      <td>0.350</td>\n",
       "      <td>0.265</td>\n",
       "      <td>0.090</td>\n",
       "      <td>0.2255</td>\n",
       "      <td>0.0995</td>\n",
       "      <td>0.0485</td>\n",
       "      <td>0.070</td>\n",
       "      <td>7.0</td>\n",
       "      <td>0</td>\n",
       "      <td>0</td>\n",
       "      <td>1</td>\n",
       "    </tr>\n",
       "    <tr>\n",
       "      <th>2</th>\n",
       "      <td>0.530</td>\n",
       "      <td>0.420</td>\n",
       "      <td>0.135</td>\n",
       "      <td>0.6770</td>\n",
       "      <td>0.2565</td>\n",
       "      <td>0.1415</td>\n",
       "      <td>0.210</td>\n",
       "      <td>9.0</td>\n",
       "      <td>1</td>\n",
       "      <td>0</td>\n",
       "      <td>0</td>\n",
       "    </tr>\n",
       "    <tr>\n",
       "      <th>3</th>\n",
       "      <td>0.440</td>\n",
       "      <td>0.365</td>\n",
       "      <td>0.125</td>\n",
       "      <td>0.5160</td>\n",
       "      <td>0.2155</td>\n",
       "      <td>0.1140</td>\n",
       "      <td>0.155</td>\n",
       "      <td>10.0</td>\n",
       "      <td>0</td>\n",
       "      <td>0</td>\n",
       "      <td>1</td>\n",
       "    </tr>\n",
       "    <tr>\n",
       "      <th>4</th>\n",
       "      <td>0.330</td>\n",
       "      <td>0.255</td>\n",
       "      <td>0.080</td>\n",
       "      <td>0.2050</td>\n",
       "      <td>0.0895</td>\n",
       "      <td>0.0395</td>\n",
       "      <td>0.055</td>\n",
       "      <td>7.0</td>\n",
       "      <td>0</td>\n",
       "      <td>1</td>\n",
       "      <td>0</td>\n",
       "    </tr>\n",
       "  </tbody>\n",
       "</table>\n",
       "</div>\n",
       "      <button class=\"colab-df-convert\" onclick=\"convertToInteractive('df-ef4a9557-d9ef-4601-ba77-ead986e0a226')\"\n",
       "              title=\"Convert this dataframe to an interactive table.\"\n",
       "              style=\"display:none;\">\n",
       "        \n",
       "  <svg xmlns=\"http://www.w3.org/2000/svg\" height=\"24px\"viewBox=\"0 0 24 24\"\n",
       "       width=\"24px\">\n",
       "    <path d=\"M0 0h24v24H0V0z\" fill=\"none\"/>\n",
       "    <path d=\"M18.56 5.44l.94 2.06.94-2.06 2.06-.94-2.06-.94-.94-2.06-.94 2.06-2.06.94zm-11 1L8.5 8.5l.94-2.06 2.06-.94-2.06-.94L8.5 2.5l-.94 2.06-2.06.94zm10 10l.94 2.06.94-2.06 2.06-.94-2.06-.94-.94-2.06-.94 2.06-2.06.94z\"/><path d=\"M17.41 7.96l-1.37-1.37c-.4-.4-.92-.59-1.43-.59-.52 0-1.04.2-1.43.59L10.3 9.45l-7.72 7.72c-.78.78-.78 2.05 0 2.83L4 21.41c.39.39.9.59 1.41.59.51 0 1.02-.2 1.41-.59l7.78-7.78 2.81-2.81c.8-.78.8-2.07 0-2.86zM5.41 20L4 18.59l7.72-7.72 1.47 1.35L5.41 20z\"/>\n",
       "  </svg>\n",
       "      </button>\n",
       "      \n",
       "  <style>\n",
       "    .colab-df-container {\n",
       "      display:flex;\n",
       "      flex-wrap:wrap;\n",
       "      gap: 12px;\n",
       "    }\n",
       "\n",
       "    .colab-df-convert {\n",
       "      background-color: #E8F0FE;\n",
       "      border: none;\n",
       "      border-radius: 50%;\n",
       "      cursor: pointer;\n",
       "      display: none;\n",
       "      fill: #1967D2;\n",
       "      height: 32px;\n",
       "      padding: 0 0 0 0;\n",
       "      width: 32px;\n",
       "    }\n",
       "\n",
       "    .colab-df-convert:hover {\n",
       "      background-color: #E2EBFA;\n",
       "      box-shadow: 0px 1px 2px rgba(60, 64, 67, 0.3), 0px 1px 3px 1px rgba(60, 64, 67, 0.15);\n",
       "      fill: #174EA6;\n",
       "    }\n",
       "\n",
       "    [theme=dark] .colab-df-convert {\n",
       "      background-color: #3B4455;\n",
       "      fill: #D2E3FC;\n",
       "    }\n",
       "\n",
       "    [theme=dark] .colab-df-convert:hover {\n",
       "      background-color: #434B5C;\n",
       "      box-shadow: 0px 1px 3px 1px rgba(0, 0, 0, 0.15);\n",
       "      filter: drop-shadow(0px 1px 2px rgba(0, 0, 0, 0.3));\n",
       "      fill: #FFFFFF;\n",
       "    }\n",
       "  </style>\n",
       "\n",
       "      <script>\n",
       "        const buttonEl =\n",
       "          document.querySelector('#df-ef4a9557-d9ef-4601-ba77-ead986e0a226 button.colab-df-convert');\n",
       "        buttonEl.style.display =\n",
       "          google.colab.kernel.accessAllowed ? 'block' : 'none';\n",
       "\n",
       "        async function convertToInteractive(key) {\n",
       "          const element = document.querySelector('#df-ef4a9557-d9ef-4601-ba77-ead986e0a226');\n",
       "          const dataTable =\n",
       "            await google.colab.kernel.invokeFunction('convertToInteractive',\n",
       "                                                     [key], {});\n",
       "          if (!dataTable) return;\n",
       "\n",
       "          const docLinkHtml = 'Like what you see? Visit the ' +\n",
       "            '<a target=\"_blank\" href=https://colab.research.google.com/notebooks/data_table.ipynb>data table notebook</a>'\n",
       "            + ' to learn more about interactive tables.';\n",
       "          element.innerHTML = '';\n",
       "          dataTable['output_type'] = 'display_data';\n",
       "          await google.colab.output.renderOutput(dataTable, element);\n",
       "          const docLink = document.createElement('div');\n",
       "          docLink.innerHTML = docLinkHtml;\n",
       "          element.appendChild(docLink);\n",
       "        }\n",
       "      </script>\n",
       "    </div>\n",
       "  </div>\n",
       "  "
      ],
      "text/plain": [
       "   Length  Diameter  Height  Whole weight  Shucked weight  Viscera weight  \\\n",
       "0   0.455     0.365   0.095        0.5140          0.2245          0.1010   \n",
       "1   0.350     0.265   0.090        0.2255          0.0995          0.0485   \n",
       "2   0.530     0.420   0.135        0.6770          0.2565          0.1415   \n",
       "3   0.440     0.365   0.125        0.5160          0.2155          0.1140   \n",
       "4   0.330     0.255   0.080        0.2050          0.0895          0.0395   \n",
       "\n",
       "   Shell weight  Rings  Sex_F  Sex_I  Sex_M  \n",
       "0         0.150   15.0      0      0      1  \n",
       "1         0.070    7.0      0      0      1  \n",
       "2         0.210    9.0      1      0      0  \n",
       "3         0.155   10.0      0      0      1  \n",
       "4         0.055    7.0      0      1      0  "
      ]
     },
     "execution_count": 65,
     "metadata": {},
     "output_type": "execute_result"
    }
   ],
   "source": [
    "df.head()"
   ]
  },
  {
   "cell_type": "code",
   "execution_count": 67,
   "metadata": {
    "colab": {
     "base_uri": "https://localhost:8080/"
    },
    "id": "ZqWBdaYyH6rE",
    "outputId": "8c341f20-9f4b-4e4c-c6ab-defa3c6a479e"
   },
   "outputs": [
    {
     "data": {
      "text/plain": [
       "array([9.71316948])"
      ]
     },
     "execution_count": 67,
     "metadata": {},
     "output_type": "execute_result"
    }
   ],
   "source": [
    "LR_data.predict([[0.455,0.365,0.095,0.5140,0.2245,0.1010,0.150,0,0,1]])"
   ]
  }
 ],
 "metadata": {
  "colab": {
   "provenance": []
  },
  "kernelspec": {
   "display_name": "Python 3 (ipykernel)",
   "language": "python",
   "name": "python3"
  },
  "language_info": {
   "codemirror_mode": {
    "name": "ipython",
    "version": 3
   },
   "file_extension": ".py",
   "mimetype": "text/x-python",
   "name": "python",
   "nbconvert_exporter": "python",
   "pygments_lexer": "ipython3",
   "version": "3.9.12"
  }
 },
 "nbformat": 4,
 "nbformat_minor": 1
}
